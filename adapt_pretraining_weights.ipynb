{
 "cells": [
  {
   "cell_type": "code",
   "execution_count": 1,
   "metadata": {},
   "outputs": [],
   "source": [
    "import torch\n",
    "from src.models.video_cav_mae import *\n",
    "from collections import OrderedDict\n",
    "\n",
    "input_weight_path = \"/path/to/stage-2.pth\"\n",
    "output_weight_path = \"/path/to/stage-3.pth\"\n",
    "\n",
    "stage1_weight = torch.load(input_weight_path)\n",
    "\n",
    "cavmae_ft = VideoCAVMAEFT()\n",
    "cavmae_ft = torch.nn.DataParallel(cavmae_ft)"
   ]
  },
  {
   "cell_type": "code",
   "execution_count": 2,
   "metadata": {},
   "outputs": [],
   "source": [
    "stage2_weight = OrderedDict()\n",
    "for k in stage1_weight.keys():\n",
    "    if ('mlp' in k and ('a2v' in k or 'v2a' in k)) or 'decoder' in k:\n",
    "        continue\n",
    "    stage2_weight[k] = stage1_weight[k]"
   ]
  },
  {
   "cell_type": "code",
   "execution_count": 3,
   "metadata": {},
   "outputs": [
    {
     "data": {
      "text/plain": [
       "(['module.a2v.mlp.linear.weight',\n",
       "  'module.a2v.mlp.linear.bias',\n",
       "  'module.v2a.mlp.linear.weight',\n",
       "  'module.v2a.mlp.linear.bias',\n",
       "  'module.mlp_vision.weight',\n",
       "  'module.mlp_vision.bias',\n",
       "  'module.mlp_audio.weight',\n",
       "  'module.mlp_audio.bias',\n",
       "  'module.mlp_head.fc1.weight',\n",
       "  'module.mlp_head.fc1.bias',\n",
       "  'module.mlp_head.fc2.weight',\n",
       "  'module.mlp_head.fc2.bias',\n",
       "  'module.mlp_head.fc3.weight',\n",
       "  'module.mlp_head.fc3.bias'],\n",
       " [])"
      ]
     },
     "execution_count": 3,
     "metadata": {},
     "output_type": "execute_result"
    }
   ],
   "source": [
    "missing, unexpected = cavmae_ft.load_state_dict(stage2_weight, strict=False)\n",
    "missing, unexpected"
   ]
  },
  {
   "cell_type": "code",
   "execution_count": 4,
   "metadata": {},
   "outputs": [],
   "source": [
    "torch.save(cavmae_ft.state_dict(), output_weight_path)"
   ]
  },
  {
   "cell_type": "code",
   "execution_count": null,
   "metadata": {},
   "outputs": [],
   "source": []
  }
 ],
 "metadata": {
  "kernelspec": {
   "display_name": "cav-mae",
   "language": "python",
   "name": "python3"
  },
  "language_info": {
   "codemirror_mode": {
    "name": "ipython",
    "version": 3
   },
   "file_extension": ".py",
   "mimetype": "text/x-python",
   "name": "python",
   "nbconvert_exporter": "python",
   "pygments_lexer": "ipython3",
   "version": "3.8.19"
  }
 },
 "nbformat": 4,
 "nbformat_minor": 2
}
